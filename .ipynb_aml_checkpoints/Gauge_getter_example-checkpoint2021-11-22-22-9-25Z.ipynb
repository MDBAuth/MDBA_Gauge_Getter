{
  "cells": [
    {
      "cell_type": "code",
      "source": [
        " !pip install -r requirements.txt"
      ],
      "outputs": [
        {
          "output_type": "stream",
          "name": "stdout",
          "text": "Requirement already satisfied: requests in /anaconda/envs/azureml_py36/lib/python3.6/site-packages (from -r requirements.txt (line 1)) (2.25.1)\nRequirement already satisfied: pandas in /anaconda/envs/azureml_py36/lib/python3.6/site-packages (from -r requirements.txt (line 2)) (0.25.3)\nCollecting bomwater\n  Downloading bomwater-0.0.8-py3-none-any.whl (10 kB)\nRequirement already satisfied: certifi>=2017.4.17 in /anaconda/envs/azureml_py36/lib/python3.6/site-packages (from requests->-r requirements.txt (line 1)) (2021.5.30)\nRequirement already satisfied: idna<3,>=2.5 in /anaconda/envs/azureml_py36/lib/python3.6/site-packages (from requests->-r requirements.txt (line 1)) (2.10)\nRequirement already satisfied: urllib3<1.27,>=1.21.1 in /anaconda/envs/azureml_py36/lib/python3.6/site-packages (from requests->-r requirements.txt (line 1)) (1.25.11)\nRequirement already satisfied: chardet<5,>=3.0.2 in /anaconda/envs/azureml_py36/lib/python3.6/site-packages (from requests->-r requirements.txt (line 1)) (4.0.0)\nRequirement already satisfied: python-dateutil>=2.6.1 in /anaconda/envs/azureml_py36/lib/python3.6/site-packages (from pandas->-r requirements.txt (line 2)) (2.8.1)\nRequirement already satisfied: pytz>=2017.2 in /anaconda/envs/azureml_py36/lib/python3.6/site-packages (from pandas->-r requirements.txt (line 2)) (2021.1)\nRequirement already satisfied: numpy>=1.13.3 in /anaconda/envs/azureml_py36/lib/python3.6/site-packages (from pandas->-r requirements.txt (line 2)) (1.18.5)\nRequirement already satisfied: xmltodict in /anaconda/envs/azureml_py36/lib/python3.6/site-packages (from bomwater->-r requirements.txt (line 3)) (0.12.0)\nCollecting geojson\n  Downloading geojson-2.5.0-py2.py3-none-any.whl (14 kB)\nCollecting shapely\n  Downloading Shapely-1.8.0-cp36-cp36m-manylinux_2_5_x86_64.manylinux1_x86_64.whl (1.1 MB)\n\u001b[K     |████████████████████████████████| 1.1 MB 37.5 MB/s eta 0:00:01\n\u001b[?25hRequirement already satisfied: json5 in /anaconda/envs/azureml_py36/lib/python3.6/site-packages (from bomwater->-r requirements.txt (line 3)) (0.9.6)\nCollecting iso8601\n  Downloading iso8601-1.0.2-py3-none-any.whl (9.7 kB)\nRequirement already satisfied: six>=1.5 in /anaconda/envs/azureml_py36/lib/python3.6/site-packages (from python-dateutil>=2.6.1->pandas->-r requirements.txt (line 2)) (1.16.0)\nInstalling collected packages: geojson, shapely, iso8601, bomwater\nSuccessfully installed bomwater-0.0.8 geojson-2.5.0 iso8601-1.0.2 shapely-1.8.0\n"
        }
      ],
      "execution_count": 5,
      "metadata": {
        "jupyter": {
          "source_hidden": false,
          "outputs_hidden": false
        },
        "nteract": {
          "transient": {
            "deleting": false
          }
        },
        "gather": {
          "logged": 1640058283225
        }
      }
    },
    {
      "cell_type": "code",
      "source": [
        "!python setup.py install"
      ],
      "outputs": [
        {
          "output_type": "stream",
          "name": "stdout",
          "text": "running install\nrunning bdist_egg\nrunning egg_info\nwriting mdba_gauge_getter.egg-info/PKG-INFO\nwriting dependency_links to mdba_gauge_getter.egg-info/dependency_links.txt\nwriting top-level names to mdba_gauge_getter.egg-info/top_level.txt\nwriting manifest file 'mdba_gauge_getter.egg-info/SOURCES.txt'\ninstalling library code to build/bdist.linux-x86_64/egg\nrunning install_lib\nrunning build_py\ncreating build/bdist.linux-x86_64/egg\ncreating build/bdist.linux-x86_64/egg/mdba_gauge_getter\ncreating build/bdist.linux-x86_64/egg/mdba_gauge_getter/data\ncopying build/lib/mdba_gauge_getter/data/bom_gauge_data.csv -> build/bdist.linux-x86_64/egg/mdba_gauge_getter/data\ncopying build/lib/mdba_gauge_getter/gauge_getter.py -> build/bdist.linux-x86_64/egg/mdba_gauge_getter\ncopying build/lib/mdba_gauge_getter/__init__.py -> build/bdist.linux-x86_64/egg/mdba_gauge_getter\nbyte-compiling build/bdist.linux-x86_64/egg/mdba_gauge_getter/gauge_getter.py to gauge_getter.cpython-36.pyc\nbyte-compiling build/bdist.linux-x86_64/egg/mdba_gauge_getter/__init__.py to __init__.cpython-36.pyc\ncreating build/bdist.linux-x86_64/egg/EGG-INFO\ncopying mdba_gauge_getter.egg-info/PKG-INFO -> build/bdist.linux-x86_64/egg/EGG-INFO\ncopying mdba_gauge_getter.egg-info/SOURCES.txt -> build/bdist.linux-x86_64/egg/EGG-INFO\ncopying mdba_gauge_getter.egg-info/dependency_links.txt -> build/bdist.linux-x86_64/egg/EGG-INFO\ncopying mdba_gauge_getter.egg-info/top_level.txt -> build/bdist.linux-x86_64/egg/EGG-INFO\nzip_safe flag not set; analyzing archive contents...\nmdba_gauge_getter.__pycache__.gauge_getter.cpython-36: module references __file__\ncreating 'dist/mdba_gauge_getter-0.1-py3.6.egg' and adding 'build/bdist.linux-x86_64/egg' to it\nremoving 'build/bdist.linux-x86_64/egg' (and everything under it)\nProcessing mdba_gauge_getter-0.1-py3.6.egg\nremoving '/anaconda/envs/azureml_py36/lib/python3.6/site-packages/mdba_gauge_getter-0.1-py3.6.egg' (and everything under it)\ncreating /anaconda/envs/azureml_py36/lib/python3.6/site-packages/mdba_gauge_getter-0.1-py3.6.egg\nExtracting mdba_gauge_getter-0.1-py3.6.egg to /anaconda/envs/azureml_py36/lib/python3.6/site-packages\nmdba-gauge-getter 0.1 is already the active version in easy-install.pth\n\nInstalled /anaconda/envs/azureml_py36/lib/python3.6/site-packages/mdba_gauge_getter-0.1-py3.6.egg\nProcessing dependencies for mdba-gauge-getter==0.1\nFinished processing dependencies for mdba-gauge-getter==0.1\n"
        }
      ],
      "execution_count": 6,
      "metadata": {
        "jupyter": {
          "source_hidden": false,
          "outputs_hidden": false
        },
        "nteract": {
          "transient": {
            "deleting": false
          }
        }
      }
    },
    {
      "cell_type": "code",
      "source": [
        "import mdba_gauge_getter as gg"
      ],
      "outputs": [],
      "execution_count": 2,
      "metadata": {
        "collapsed": true,
        "jupyter": {
          "source_hidden": false,
          "outputs_hidden": false
        },
        "nteract": {
          "transient": {
            "deleting": false
          }
        },
        "gather": {
          "logged": 1640058152385
        }
      }
    },
    {
      "cell_type": "code",
      "source": [
        "\r\n",
        "help(gg.gauge_getter)"
      ],
      "outputs": [
        {
          "output_type": "stream",
          "name": "stdout",
          "text": "Help on module mdba_gauge_getter.gauge_getter in mdba_gauge_getter:\n\nNAME\n    mdba_gauge_getter.gauge_getter\n\nFUNCTIONS\n    call_state_api(state:str, indicative_sites:List[str], start_time:datetime.date, end_time:datetime.date, data_source:str, var:str, interval:str, data_type:str) -> Dict[str, Any]\n        Sends a web request with a destination based on `state` of the gauge.\n        \n        Returns a JSON dict object containing web responses, and will fail if the server returns\n        either a non HTTP-200 error code, or invalid JSON\n    \n    extract_data(state:str, data) -> List[List[Any]]\n        Collects\n    \n    gauge_pull(gauge_numbers:List[str], start_time_user:datetime.date, end_time_user:datetime.date, var:str='F', interval:str='day', data_type:str='mean') -> pandas.core.frame.DataFrame\n        Given a list of gauge numbers, sorts the list into state groups, and queries relevant\n        HTTP endpoints for data, returning as a Pandas dataframe object.\n    \n    get_states_for_gauge(gauge_number:str) -> Set[str]\n        Given a gauge number, returns a set of states which that gauge may belong to.\n    \n    init() -> None\n        Loads gauges from disk. This will dynamically trigger when other libraries require\n        gague data.\n    \n    process_gauge_pull(sitelist:List[str], callstate:str, call_data_source:str, start_time_user:datetime.date, end_time_user:datetime.date, var:str, interval:str, data_type:str) -> List[List[Any]]\n        Intermediate function which splits many gauge_pull records into separate web requests\n        and provides user feedback on progress\n    \n    sort_gauges_by_state(gauge_numbers:List[str]) -> Dict[str, List[str]]\n        Splits the listed gauges into state-based lists.\n    \n    split_into_chunks(input_list:List[~T], maxlen:int) -> List[List[~T]]\n        Splits a list into many lists of maximum `maxlen` length. Let input_list = [1,2,3,4].\n        When:\n        \n        - `maxlen=1` => `[[1],[2],[3],[4]]`\n        - `maxlen=2` => `[[1, 2],[3, 4]]`\n        - `maxlen=3` => `[[1, 2, 3], [4]]`\n        - `maxlen=4` => `[[1, 2, 3, 4]]`\n        - `maxlen=5` => `[[1, 2, 3, 4]]`\n\nDATA\n    Any = typing.Any\n    MAX_SITES_PER_REQUEST = {'NSW': 10, 'QLD': 10, 'VIC': 10}\n    Optional = typing.Optional\n    STATE_FLOW_VarFrom = {'NSW': Decimal('100.00'), 'QLD': Decimal('100.00...\n    STATE_FLOW_VarTo = {'NSW': Decimal('141.00'), 'QLD': Decimal('141.00')...\n    STATE_LEVEL_VarFrom = {'NSW': Decimal('130.00'), 'QLD': Decimal('100.0...\n    STATE_LEVEL_VarTo = {'NSW': Decimal('130.00'), 'QLD': Decimal('100.00'...\n    STATE_URLS = {'NSW': 'realtimedata.waternsw.com.au', 'QLD': 'water-mon...\n    T = ~T\n    __annotations__ = {'gauges': <class 'pandas.core.frame.DataFrame'>}\n    gauge_data_uri = '/mnt/batch/tasks/shared/LS_root/mounts/clusters/...0...\n    gauges = None\n    log = <Logger mdba_gauge_getter.gauge_get (INFO)>\n\nFILE\n    /mnt/batch/tasks/shared/LS_root/mounts/clusters/npd-data-azml-vm-bb-ds2/code/Users/Ben.Bradshaw/DataOps%20Gauge%20Getter/mdba_gauge_getter/gauge_getter.py\n\n\n"
        }
      ],
      "execution_count": 3,
      "metadata": {
        "collapsed": true,
        "jupyter": {
          "source_hidden": false,
          "outputs_hidden": false
        },
        "nteract": {
          "transient": {
            "deleting": false
          }
        },
        "gather": {
          "logged": 1640058154037
        }
      }
    },
    {
      "cell_type": "code",
      "source": [
        "import datetime\r\n",
        "from decimal import *\r\n",
        "BIGEE_gauges = [\"410130\", \"410005\", \"410040\"]\r\n",
        "#gg.sort_gauges_by_state(BIGEE_gauges)\r\n",
        "d_BIDGEE = gg.gauge_pull(BIGEE_gauges, start_time_user = datetime.date(2000, 12, 4), end_time_user= datetime.date(2020, 12, 4), var='F' )"
      ],
      "outputs": [
        {
          "output_type": "stream",
          "name": "stderr",
          "text": "INFO:mdba_gauge_getter.gauge_get:NSW - Request 1 of 1\n"
        },
        {
          "output_type": "stream",
          "name": "stdout",
          "text": "https://realtimedata.waternsw.com.au/cgi/webservice.pl?{\"params\":{\"site_list\":\"410130,410005,410040\",\"start_time\":\"20001204000000\",\"varfrom\":\"100.00\",\"interval\":\"day\",\"varto\":\"141.00\",\"datasource\":\"CP\",\"end_time\":\"20201204000000\",\"data_type\":\"mean\",\"multiplier\":\"1\"},\"function\":\"get_ts_traces\",\"version\":\"2\"}\n"
        }
      ],
      "execution_count": 5,
      "metadata": {
        "collapsed": true,
        "jupyter": {
          "source_hidden": false,
          "outputs_hidden": false
        },
        "nteract": {
          "transient": {
            "deleting": false
          }
        },
        "gather": {
          "logged": 1637709276839
        }
      }
    },
    {
      "cell_type": "code",
      "source": [
        "d_BIDGEE"
      ],
      "outputs": [
        {
          "output_type": "execute_result",
          "execution_count": 6,
          "data": {
            "text/plain": "      DATASOURCEID  SITEID SUBJECTID    DATETIME     VALUE  QUALITYCODE\n0              NSW  410130     WATER  2000-12-04   649.745           38\n1              NSW  410130     WATER  2000-12-05   598.909           38\n2              NSW  410130     WATER  2000-12-06   578.624           38\n3              NSW  410130     WATER  2000-12-07   555.826           38\n4              NSW  410130     WATER  2000-12-08   527.558           38\n...            ...     ...       ...         ...       ...          ...\n21913          NSW  410040     WATER  2020-11-30  2122.212          140\n21914          NSW  410040     WATER  2020-12-01  2091.129          140\n21915          NSW  410040     WATER  2020-12-02  2085.267          140\n21916          NSW  410040     WATER  2020-12-03  1866.843          140\n21917          NSW  410040     WATER  2020-12-04  1633.865          140\n\n[21918 rows x 6 columns]",
            "text/html": "<div>\n<style scoped>\n    .dataframe tbody tr th:only-of-type {\n        vertical-align: middle;\n    }\n\n    .dataframe tbody tr th {\n        vertical-align: top;\n    }\n\n    .dataframe thead th {\n        text-align: right;\n    }\n</style>\n<table border=\"1\" class=\"dataframe\">\n  <thead>\n    <tr style=\"text-align: right;\">\n      <th></th>\n      <th>DATASOURCEID</th>\n      <th>SITEID</th>\n      <th>SUBJECTID</th>\n      <th>DATETIME</th>\n      <th>VALUE</th>\n      <th>QUALITYCODE</th>\n    </tr>\n  </thead>\n  <tbody>\n    <tr>\n      <th>0</th>\n      <td>NSW</td>\n      <td>410130</td>\n      <td>WATER</td>\n      <td>2000-12-04</td>\n      <td>649.745</td>\n      <td>38</td>\n    </tr>\n    <tr>\n      <th>1</th>\n      <td>NSW</td>\n      <td>410130</td>\n      <td>WATER</td>\n      <td>2000-12-05</td>\n      <td>598.909</td>\n      <td>38</td>\n    </tr>\n    <tr>\n      <th>2</th>\n      <td>NSW</td>\n      <td>410130</td>\n      <td>WATER</td>\n      <td>2000-12-06</td>\n      <td>578.624</td>\n      <td>38</td>\n    </tr>\n    <tr>\n      <th>3</th>\n      <td>NSW</td>\n      <td>410130</td>\n      <td>WATER</td>\n      <td>2000-12-07</td>\n      <td>555.826</td>\n      <td>38</td>\n    </tr>\n    <tr>\n      <th>4</th>\n      <td>NSW</td>\n      <td>410130</td>\n      <td>WATER</td>\n      <td>2000-12-08</td>\n      <td>527.558</td>\n      <td>38</td>\n    </tr>\n    <tr>\n      <th>...</th>\n      <td>...</td>\n      <td>...</td>\n      <td>...</td>\n      <td>...</td>\n      <td>...</td>\n      <td>...</td>\n    </tr>\n    <tr>\n      <th>21913</th>\n      <td>NSW</td>\n      <td>410040</td>\n      <td>WATER</td>\n      <td>2020-11-30</td>\n      <td>2122.212</td>\n      <td>140</td>\n    </tr>\n    <tr>\n      <th>21914</th>\n      <td>NSW</td>\n      <td>410040</td>\n      <td>WATER</td>\n      <td>2020-12-01</td>\n      <td>2091.129</td>\n      <td>140</td>\n    </tr>\n    <tr>\n      <th>21915</th>\n      <td>NSW</td>\n      <td>410040</td>\n      <td>WATER</td>\n      <td>2020-12-02</td>\n      <td>2085.267</td>\n      <td>140</td>\n    </tr>\n    <tr>\n      <th>21916</th>\n      <td>NSW</td>\n      <td>410040</td>\n      <td>WATER</td>\n      <td>2020-12-03</td>\n      <td>1866.843</td>\n      <td>140</td>\n    </tr>\n    <tr>\n      <th>21917</th>\n      <td>NSW</td>\n      <td>410040</td>\n      <td>WATER</td>\n      <td>2020-12-04</td>\n      <td>1633.865</td>\n      <td>140</td>\n    </tr>\n  </tbody>\n</table>\n<p>21918 rows × 6 columns</p>\n</div>"
          },
          "metadata": {}
        }
      ],
      "execution_count": 6,
      "metadata": {
        "collapsed": true,
        "jupyter": {
          "source_hidden": false,
          "outputs_hidden": false
        },
        "nteract": {
          "transient": {
            "deleting": false
          }
        },
        "gather": {
          "logged": 1637709276972
        }
      }
    },
    {
      "cell_type": "code",
      "source": [
        "Paroo =\t[\"424201A\",\"424202A\",\"424002\"]\r\n",
        "Warrego = [\"423203A\",\"423204A\"]\r\n",
        "Condamine_Balonne = [\"422006\",\"422394A\",\"422310C\",\"422355A\",\"422353A\",\"422316A\",\"422333A\",\"422308C\",\"422325A\",\"422213A\"]\r\n",
        "Moonie = [\"417204A\",\"417201B\",\"417001\"]\r\n",
        "Border_Rivers =[\"416002\", \"416202A\",\"416011\",\"416007\",\"416043\",\"416048\"]\r\n",
        "Gwydir = [\"418036\", \"418027\", \"418037\", \"418060\", \"418008\",\"418012\",\"418013\",\"418001\",\"418002\",\"418053\",\"416027\",\"418060\",\"418066\",\"416027\",\"416052\",\"418055\"]\r\n",
        "Namoi =[\"419021\", \"419049\",\"419020\",\"419022\",\"419001\",\"419012\"]\r\n",
        "Macquarie_Castlereagh = [\"420004\", \"421039\",\"421001\",\"421012\"]\r\n",
        "Barwon_Darling = [\"425003\",\"416050\",\"422001\",\"422004\",\"422028\",\"425004\"] \r\n",
        "Lachlan\t= [\"412057\",\"412002\",\"412004\",\"412036\",\"412011\",\"412057\"]\r\n",
        "Murrumbidgee = [\"410001\",\"410008\",\"410004\",\"410005\",\"410021\",\"410078\",\"410136\",\"410040\"]\r\n",
        "Ovens = [\"403241\"]\r\n",
        "Goulburn_Broken\t= [\"405232\",\"405203\",\"405201\"]\r\n",
        "Campaspe = [\"406200\",\"406207\",\"406202\"]\r\n",
        "Loddon_Avoca = [\"407203\",\"407210\",\"407224\",\"407205\"]\r\n",
        "Wimmera\t= [\"415246\"]\r\n",
        "Murray = [\"425010\",\"409215\",\"409204\",\"414200\",\"414203\",\"426200\"]\r\n",
        "Lower_Darling = [\"425012\",\"425013\",\"425005\"]\r\n",
        "Eastern_Mt_Lofty_Ranges = [\"A4260568\"]\r\n",
        "\r\n",
        "allguages = Paroo + Warrego + Condamine_Balonne + Moonie + Border_Rivers + Gwydir + Namoi + Macquarie_Castlereagh + Barwon_Darling + Lachlan + Murrumbidgee + Ovens + Goulburn_Broken + Campaspe + Loddon_Avoca + Murray + Wimmera + Lower_Darling + Eastern_Mt_Lofty_Ranges"
      ],
      "outputs": [],
      "execution_count": 5,
      "metadata": {
        "collapsed": true,
        "jupyter": {
          "source_hidden": false,
          "outputs_hidden": false
        },
        "nteract": {
          "transient": {
            "deleting": false
          }
        },
        "gather": {
          "logged": 1630622912372
        }
      }
    },
    {
      "cell_type": "code",
      "source": [
        "gg.gauge_pull(allguages, start_time_user = datetime.date(2021, 6, 1), end_time_user= datetime.date.today() )"
      ],
      "outputs": [
        {
          "output_type": "stream",
          "name": "stderr",
          "text": "WARNING:mdba_gauge_getter.gauge_get:Gauge 422353A has many state results: ['QLD', 'QLD']\nINFO:mdba_gauge_getter.gauge_get:NSW - Request 1 of 6\nINFO:mdba_gauge_getter.gauge_get:NSW - Request 2 of 6\nINFO:mdba_gauge_getter.gauge_get:NSW - Request 3 of 6\nINFO:mdba_gauge_getter.gauge_get:NSW - Request 4 of 6\nINFO:mdba_gauge_getter.gauge_get:NSW - Request 5 of 6\nINFO:mdba_gauge_getter.gauge_get:NSW - Request 6 of 6\nINFO:mdba_gauge_getter.gauge_get:VIC - Request 1 of 2\nINFO:mdba_gauge_getter.gauge_get:VIC - Request 2 of 2\nINFO:mdba_gauge_getter.gauge_get:QLD - Request 1 of 2\nINFO:mdba_gauge_getter.gauge_get:QLD - Request 2 of 2\n"
        },
        {
          "output_type": "execute_result",
          "execution_count": 6,
          "data": {
            "text/plain": "     DATASOURCEID   SITEID SUBJECTID    DATETIME  VALUE  QUALITYCODE\n0             NSW   424002     WATER  2021-06-01  0.000          140\n1             NSW   424002     WATER  2021-06-02  0.000          140\n2             NSW   424002     WATER  2021-06-03  0.028          140\n3             NSW   424002     WATER  2021-06-04  0.028          140\n4             NSW   424002     WATER  2021-06-05  0.004          140\n...           ...      ...       ...         ...    ...          ...\n8079          QLD  416202A     WATER  2021-08-29  52.17          130\n8080          QLD  416202A     WATER  2021-08-30  48.77          130\n8081          QLD  416202A     WATER  2021-08-31  46.76          130\n8082          QLD  416202A     WATER  2021-09-01  44.54          130\n8083          QLD  416202A     WATER  2021-09-02  40.12          130\n\n[8084 rows x 6 columns]",
            "text/html": "<div>\n<style scoped>\n    .dataframe tbody tr th:only-of-type {\n        vertical-align: middle;\n    }\n\n    .dataframe tbody tr th {\n        vertical-align: top;\n    }\n\n    .dataframe thead th {\n        text-align: right;\n    }\n</style>\n<table border=\"1\" class=\"dataframe\">\n  <thead>\n    <tr style=\"text-align: right;\">\n      <th></th>\n      <th>DATASOURCEID</th>\n      <th>SITEID</th>\n      <th>SUBJECTID</th>\n      <th>DATETIME</th>\n      <th>VALUE</th>\n      <th>QUALITYCODE</th>\n    </tr>\n  </thead>\n  <tbody>\n    <tr>\n      <th>0</th>\n      <td>NSW</td>\n      <td>424002</td>\n      <td>WATER</td>\n      <td>2021-06-01</td>\n      <td>0.000</td>\n      <td>140</td>\n    </tr>\n    <tr>\n      <th>1</th>\n      <td>NSW</td>\n      <td>424002</td>\n      <td>WATER</td>\n      <td>2021-06-02</td>\n      <td>0.000</td>\n      <td>140</td>\n    </tr>\n    <tr>\n      <th>2</th>\n      <td>NSW</td>\n      <td>424002</td>\n      <td>WATER</td>\n      <td>2021-06-03</td>\n      <td>0.028</td>\n      <td>140</td>\n    </tr>\n    <tr>\n      <th>3</th>\n      <td>NSW</td>\n      <td>424002</td>\n      <td>WATER</td>\n      <td>2021-06-04</td>\n      <td>0.028</td>\n      <td>140</td>\n    </tr>\n    <tr>\n      <th>4</th>\n      <td>NSW</td>\n      <td>424002</td>\n      <td>WATER</td>\n      <td>2021-06-05</td>\n      <td>0.004</td>\n      <td>140</td>\n    </tr>\n    <tr>\n      <th>...</th>\n      <td>...</td>\n      <td>...</td>\n      <td>...</td>\n      <td>...</td>\n      <td>...</td>\n      <td>...</td>\n    </tr>\n    <tr>\n      <th>8079</th>\n      <td>QLD</td>\n      <td>416202A</td>\n      <td>WATER</td>\n      <td>2021-08-29</td>\n      <td>52.17</td>\n      <td>130</td>\n    </tr>\n    <tr>\n      <th>8080</th>\n      <td>QLD</td>\n      <td>416202A</td>\n      <td>WATER</td>\n      <td>2021-08-30</td>\n      <td>48.77</td>\n      <td>130</td>\n    </tr>\n    <tr>\n      <th>8081</th>\n      <td>QLD</td>\n      <td>416202A</td>\n      <td>WATER</td>\n      <td>2021-08-31</td>\n      <td>46.76</td>\n      <td>130</td>\n    </tr>\n    <tr>\n      <th>8082</th>\n      <td>QLD</td>\n      <td>416202A</td>\n      <td>WATER</td>\n      <td>2021-09-01</td>\n      <td>44.54</td>\n      <td>130</td>\n    </tr>\n    <tr>\n      <th>8083</th>\n      <td>QLD</td>\n      <td>416202A</td>\n      <td>WATER</td>\n      <td>2021-09-02</td>\n      <td>40.12</td>\n      <td>130</td>\n    </tr>\n  </tbody>\n</table>\n<p>8084 rows × 6 columns</p>\n</div>"
          },
          "metadata": {}
        }
      ],
      "execution_count": 6,
      "metadata": {
        "collapsed": true,
        "jupyter": {
          "source_hidden": false,
          "outputs_hidden": false
        },
        "nteract": {
          "transient": {
            "deleting": false
          }
        },
        "gather": {
          "logged": 1630622949093
        }
      }
    },
    {
      "cell_type": "code",
      "source": [
        "gg.gauge_pull([\"422034\"], start_time_user = datetime.date(2021, 1, 1), end_time_user= datetime.date(2021, 11, 4), var='L' )"
      ],
      "outputs": [
        {
          "output_type": "stream",
          "name": "stderr",
          "text": "INFO:mdba_gauge_getter.gauge_get:NSW - Request 1 of 1\n"
        },
        {
          "output_type": "stream",
          "name": "stdout",
          "text": "https://realtimedata.waternsw.com.au/cgi/webservice.pl?{\"params\":{\"site_list\":\"422034\",\"start_time\":\"20210101000000\",\"varfrom\":\"100\",\"interval\":\"day\",\"varto\":\"100\",\"datasource\":\"CP\",\"end_time\":\"20211104000000\",\"data_type\":\"mean\",\"multiplier\":\"1\"},\"function\":\"get_ts_traces\",\"version\":\"2\"}\n"
        },
        {
          "output_type": "execute_result",
          "execution_count": 7,
          "data": {
            "text/plain": "    DATASOURCEID  SITEID SUBJECTID    DATETIME  VALUE  QUALITYCODE\n0            NSW  422034     WATER  2021-01-01  0.638          130\n1            NSW  422034     WATER  2021-01-02  0.638          130\n2            NSW  422034     WATER  2021-01-03  0.638          130\n3            NSW  422034     WATER  2021-01-04  0.638          130\n4            NSW  422034     WATER  2021-01-05  0.638          130\n..           ...     ...       ...         ...    ...          ...\n303          NSW  422034     WATER  2021-10-31  0.638          130\n304          NSW  422034     WATER  2021-11-01  0.638          130\n305          NSW  422034     WATER  2021-11-02  0.638          130\n306          NSW  422034     WATER  2021-11-03  0.638          130\n307          NSW  422034     WATER  2021-11-04  0.638          130\n\n[308 rows x 6 columns]",
            "text/html": "<div>\n<style scoped>\n    .dataframe tbody tr th:only-of-type {\n        vertical-align: middle;\n    }\n\n    .dataframe tbody tr th {\n        vertical-align: top;\n    }\n\n    .dataframe thead th {\n        text-align: right;\n    }\n</style>\n<table border=\"1\" class=\"dataframe\">\n  <thead>\n    <tr style=\"text-align: right;\">\n      <th></th>\n      <th>DATASOURCEID</th>\n      <th>SITEID</th>\n      <th>SUBJECTID</th>\n      <th>DATETIME</th>\n      <th>VALUE</th>\n      <th>QUALITYCODE</th>\n    </tr>\n  </thead>\n  <tbody>\n    <tr>\n      <th>0</th>\n      <td>NSW</td>\n      <td>422034</td>\n      <td>WATER</td>\n      <td>2021-01-01</td>\n      <td>0.638</td>\n      <td>130</td>\n    </tr>\n    <tr>\n      <th>1</th>\n      <td>NSW</td>\n      <td>422034</td>\n      <td>WATER</td>\n      <td>2021-01-02</td>\n      <td>0.638</td>\n      <td>130</td>\n    </tr>\n    <tr>\n      <th>2</th>\n      <td>NSW</td>\n      <td>422034</td>\n      <td>WATER</td>\n      <td>2021-01-03</td>\n      <td>0.638</td>\n      <td>130</td>\n    </tr>\n    <tr>\n      <th>3</th>\n      <td>NSW</td>\n      <td>422034</td>\n      <td>WATER</td>\n      <td>2021-01-04</td>\n      <td>0.638</td>\n      <td>130</td>\n    </tr>\n    <tr>\n      <th>4</th>\n      <td>NSW</td>\n      <td>422034</td>\n      <td>WATER</td>\n      <td>2021-01-05</td>\n      <td>0.638</td>\n      <td>130</td>\n    </tr>\n    <tr>\n      <th>...</th>\n      <td>...</td>\n      <td>...</td>\n      <td>...</td>\n      <td>...</td>\n      <td>...</td>\n      <td>...</td>\n    </tr>\n    <tr>\n      <th>303</th>\n      <td>NSW</td>\n      <td>422034</td>\n      <td>WATER</td>\n      <td>2021-10-31</td>\n      <td>0.638</td>\n      <td>130</td>\n    </tr>\n    <tr>\n      <th>304</th>\n      <td>NSW</td>\n      <td>422034</td>\n      <td>WATER</td>\n      <td>2021-11-01</td>\n      <td>0.638</td>\n      <td>130</td>\n    </tr>\n    <tr>\n      <th>305</th>\n      <td>NSW</td>\n      <td>422034</td>\n      <td>WATER</td>\n      <td>2021-11-02</td>\n      <td>0.638</td>\n      <td>130</td>\n    </tr>\n    <tr>\n      <th>306</th>\n      <td>NSW</td>\n      <td>422034</td>\n      <td>WATER</td>\n      <td>2021-11-03</td>\n      <td>0.638</td>\n      <td>130</td>\n    </tr>\n    <tr>\n      <th>307</th>\n      <td>NSW</td>\n      <td>422034</td>\n      <td>WATER</td>\n      <td>2021-11-04</td>\n      <td>0.638</td>\n      <td>130</td>\n    </tr>\n  </tbody>\n</table>\n<p>308 rows × 6 columns</p>\n</div>"
          },
          "metadata": {}
        }
      ],
      "execution_count": 7,
      "metadata": {
        "collapsed": true,
        "jupyter": {
          "source_hidden": false,
          "outputs_hidden": false
        },
        "nteract": {
          "transient": {
            "deleting": false
          }
        },
        "gather": {
          "logged": 1637709285233
        }
      }
    },
    {
      "cell_type": "code",
      "source": [
        "gg.gauge_pull(\"422034\", start_time_user = datetime.date(2000, 12, 4), end_time_user= datetime.date(2021, 11, 4), var='L' )"
      ],
      "outputs": [
        {
          "output_type": "stream",
          "name": "stderr",
          "text": "INFO:mdba_gauge_getter.gauge_get:NSW - Request 1 of 1\n"
        },
        {
          "output_type": "execute_result",
          "execution_count": 9,
          "data": {
            "text/plain": "Empty DataFrame\nColumns: [DATASOURCEID, SITEID, SUBJECTID, DATETIME, VALUE, QUALITYCODE]\nIndex: []",
            "text/html": "<div>\n<style scoped>\n    .dataframe tbody tr th:only-of-type {\n        vertical-align: middle;\n    }\n\n    .dataframe tbody tr th {\n        vertical-align: top;\n    }\n\n    .dataframe thead th {\n        text-align: right;\n    }\n</style>\n<table border=\"1\" class=\"dataframe\">\n  <thead>\n    <tr style=\"text-align: right;\">\n      <th></th>\n      <th>DATASOURCEID</th>\n      <th>SITEID</th>\n      <th>SUBJECTID</th>\n      <th>DATETIME</th>\n      <th>VALUE</th>\n      <th>QUALITYCODE</th>\n    </tr>\n  </thead>\n  <tbody>\n  </tbody>\n</table>\n</div>"
          },
          "metadata": {}
        }
      ],
      "execution_count": 9,
      "metadata": {
        "jupyter": {
          "source_hidden": false,
          "outputs_hidden": false
        },
        "nteract": {
          "transient": {
            "deleting": false
          }
        },
        "gather": {
          "logged": 1637302369565
        }
      }
    },
    {
      "cell_type": "code",
      "source": [
        "gg.gauge_getter.sort_gauges_by_state([\"407244\"])"
      ],
      "outputs": [
        {
          "output_type": "execute_result",
          "execution_count": 24,
          "data": {
            "text/plain": "{'NSW': [], 'QLD': [], 'VIC': ['407244'], 'rest': []}"
          },
          "metadata": {}
        }
      ],
      "execution_count": 24,
      "metadata": {
        "jupyter": {
          "source_hidden": false,
          "outputs_hidden": false
        },
        "nteract": {
          "transient": {
            "deleting": false
          }
        },
        "gather": {
          "logged": 1637292539125
        }
      }
    },
    {
      "cell_type": "markdown",
      "source": [
        "To use bom_water to return data in the same format see below"
      ],
      "metadata": {
        "nteract": {
          "transient": {
            "deleting": false
          }
        }
      }
    },
    {
      "cell_type": "code",
      "source": [
        "from typing import Tuple, List, Dict, TypeVar, Set, Optional, Any\r\n",
        "import bom_water\r\n",
        "import requests\r\n",
        "import pandas as pd\r\n",
        "\r\n",
        "import datetime\r\n",
        "\r\n",
        "def fixdate(timestamp):\r\n",
        "    date = timestamp.to_pydatetime()\r\n",
        "    date = date.date()\r\n",
        "    #datetime.astimzone('Australia/Sydney',date) #date.tz_localize('Australia/Sydney')   #datetime.datetime.strptime(date, '%Y-%m-%dT%H:%M:%S')\r\n",
        "    return date\r\n",
        "\r\n",
        "def gauge_pull_bom(gauge_numbers: List[str], start_time_user: datetime.date, end_time_user: datetime.date,\r\n",
        "               var: str = 'F',\r\n",
        "               interval: str = 'day', data_type: str = 'mean') -> pd.DataFrame:\r\n",
        "    '''\r\n",
        "    Given a list of gauge numbers, breaks the list into individual gauges, and uses BomWater to get data, \r\n",
        "    returning as a Pandas dataframe object in a gauge getter format.\r\n",
        "    '''\r\n",
        "    \r\n",
        "    bm = bom_water.BomWater()\r\n",
        "\r\n",
        "    if (interval == 'day') & (data_type == 'mean'):\r\n",
        "        procedure = bm.procedures.Pat4_C_B_1_DailyMean\r\n",
        "    \r\n",
        "    if var == \"F\":\r\n",
        "        prop = bm.properties.Water_Course_Discharge\r\n",
        "\r\n",
        "    t_begin = start_time_user.strftime(\"%Y-%m-%dT%H:%M:%S%z\")\r\n",
        "    t_end = end_time_user.strftime(\"%Y-%m-%dT%H:%M:%S%z\")\r\n",
        "\r\n",
        "    # t_begin = \"1800-01-01T00:00:00+10\"\r\n",
        "    # t_end = \"2030-12-31T00:00:00+10\"\r\n",
        "    collect=[]\r\n",
        "    for gauge in gauge_numbers:\r\n",
        "        \r\n",
        "        response = bm.request(bm.actions.GetObservation, gauge, prop, procedure, t_begin, t_end)\r\n",
        "\r\n",
        "        response_json = bm.xml_to_json(response.text)  \r\n",
        "        ts = bm.parse_get_data(response)\r\n",
        "        \r\n",
        "        # move to format DATASOURCEID\tSITEID\tSUBJECTID\tDATETIME\tVALUE\tQUALITYCODE\r\n",
        "        ts[\"DATASOURCEID\"] = \"BOM\"\r\n",
        "        ts[\"SITEID\"] = gauge\r\n",
        "        ts[\"SUBJECTID\"] = \"WATER\"\r\n",
        "        ts[\"DATETIME\"] = ts.index.to_pydatetime()\r\n",
        "        ts[\"DATETIME\"] = pd.to_datetime(ts[\"DATETIME\"])\r\n",
        "        ts[\"DATETIME\"] = ts[\"DATETIME\"].apply(fixdate)\r\n",
        "        ts[\"VALUE\"] = ts[\"Value[cumec]\"]\r\n",
        "        ts[\"QUALITYCODE\"] = ts[\"Quality\"]\r\n",
        "\r\n",
        "        collect.append(ts[[\"DATASOURCEID\",\"SITEID\",\t\"SUBJECTID\", \"DATETIME\", \"VALUE\", \"QUALITYCODE\"]])\r\n",
        "\r\n",
        "    return pd.concat(collect)\r\n"
      ],
      "outputs": [],
      "execution_count": 96,
      "metadata": {
        "jupyter": {
          "source_hidden": false,
          "outputs_hidden": false
        },
        "nteract": {
          "transient": {
            "deleting": false
          }
        },
        "gather": {
          "logged": 1640152204523
        }
      }
    },
    {
      "cell_type": "code",
      "source": [
        "gauge_pull_bom([\"410777\", \"412189\"], start_time_user = datetime.date(2021, 1, 1), end_time_user= datetime.date(2021, 11, 4), var='F' )\r\n"
      ],
      "outputs": [
        {
          "output_type": "execute_result",
          "execution_count": 98,
          "data": {
            "text/plain": "                    DATASOURCEID  SITEID SUBJECTID    DATETIME  VALUE  \\\nTimestamp[UTC]                                                          \n2020-12-31 14:00:00          BOM  410777     WATER  2020-12-31    NaN   \n2021-01-01 14:00:00          BOM  410777     WATER  2021-01-01    NaN   \n2021-01-02 14:00:00          BOM  410777     WATER  2021-01-02  5.902   \n2021-01-03 14:00:00          BOM  410777     WATER  2021-01-03    NaN   \n2021-01-04 14:00:00          BOM  410777     WATER  2021-01-04    NaN   \n...                          ...     ...       ...         ...    ...   \n2021-10-30 14:00:00          BOM  412189     WATER  2021-10-30  4.639   \n2021-10-31 14:00:00          BOM  412189     WATER  2021-10-31  4.529   \n2021-11-01 14:00:00          BOM  412189     WATER  2021-11-01  4.385   \n2021-11-02 14:00:00          BOM  412189     WATER  2021-11-02  4.249   \n2021-11-03 14:00:00          BOM  412189     WATER  2021-11-03  4.151   \n\n                     QUALITYCODE  \nTimestamp[UTC]                    \n2020-12-31 14:00:00           -1  \n2021-01-01 14:00:00           -1  \n2021-01-02 14:00:00          140  \n2021-01-03 14:00:00           -1  \n2021-01-04 14:00:00           -1  \n...                          ...  \n2021-10-30 14:00:00          140  \n2021-10-31 14:00:00          140  \n2021-11-01 14:00:00          140  \n2021-11-02 14:00:00          140  \n2021-11-03 14:00:00          140  \n\n[924 rows x 6 columns]",
            "text/html": "<div>\n<style scoped>\n    .dataframe tbody tr th:only-of-type {\n        vertical-align: middle;\n    }\n\n    .dataframe tbody tr th {\n        vertical-align: top;\n    }\n\n    .dataframe thead th {\n        text-align: right;\n    }\n</style>\n<table border=\"1\" class=\"dataframe\">\n  <thead>\n    <tr style=\"text-align: right;\">\n      <th></th>\n      <th>DATASOURCEID</th>\n      <th>SITEID</th>\n      <th>SUBJECTID</th>\n      <th>DATETIME</th>\n      <th>VALUE</th>\n      <th>QUALITYCODE</th>\n    </tr>\n    <tr>\n      <th>Timestamp[UTC]</th>\n      <th></th>\n      <th></th>\n      <th></th>\n      <th></th>\n      <th></th>\n      <th></th>\n    </tr>\n  </thead>\n  <tbody>\n    <tr>\n      <th>2020-12-31 14:00:00</th>\n      <td>BOM</td>\n      <td>410777</td>\n      <td>WATER</td>\n      <td>2020-12-31</td>\n      <td>NaN</td>\n      <td>-1</td>\n    </tr>\n    <tr>\n      <th>2021-01-01 14:00:00</th>\n      <td>BOM</td>\n      <td>410777</td>\n      <td>WATER</td>\n      <td>2021-01-01</td>\n      <td>NaN</td>\n      <td>-1</td>\n    </tr>\n    <tr>\n      <th>2021-01-02 14:00:00</th>\n      <td>BOM</td>\n      <td>410777</td>\n      <td>WATER</td>\n      <td>2021-01-02</td>\n      <td>5.902</td>\n      <td>140</td>\n    </tr>\n    <tr>\n      <th>2021-01-03 14:00:00</th>\n      <td>BOM</td>\n      <td>410777</td>\n      <td>WATER</td>\n      <td>2021-01-03</td>\n      <td>NaN</td>\n      <td>-1</td>\n    </tr>\n    <tr>\n      <th>2021-01-04 14:00:00</th>\n      <td>BOM</td>\n      <td>410777</td>\n      <td>WATER</td>\n      <td>2021-01-04</td>\n      <td>NaN</td>\n      <td>-1</td>\n    </tr>\n    <tr>\n      <th>...</th>\n      <td>...</td>\n      <td>...</td>\n      <td>...</td>\n      <td>...</td>\n      <td>...</td>\n      <td>...</td>\n    </tr>\n    <tr>\n      <th>2021-10-30 14:00:00</th>\n      <td>BOM</td>\n      <td>412189</td>\n      <td>WATER</td>\n      <td>2021-10-30</td>\n      <td>4.639</td>\n      <td>140</td>\n    </tr>\n    <tr>\n      <th>2021-10-31 14:00:00</th>\n      <td>BOM</td>\n      <td>412189</td>\n      <td>WATER</td>\n      <td>2021-10-31</td>\n      <td>4.529</td>\n      <td>140</td>\n    </tr>\n    <tr>\n      <th>2021-11-01 14:00:00</th>\n      <td>BOM</td>\n      <td>412189</td>\n      <td>WATER</td>\n      <td>2021-11-01</td>\n      <td>4.385</td>\n      <td>140</td>\n    </tr>\n    <tr>\n      <th>2021-11-02 14:00:00</th>\n      <td>BOM</td>\n      <td>412189</td>\n      <td>WATER</td>\n      <td>2021-11-02</td>\n      <td>4.249</td>\n      <td>140</td>\n    </tr>\n    <tr>\n      <th>2021-11-03 14:00:00</th>\n      <td>BOM</td>\n      <td>412189</td>\n      <td>WATER</td>\n      <td>2021-11-03</td>\n      <td>4.151</td>\n      <td>140</td>\n    </tr>\n  </tbody>\n</table>\n<p>924 rows × 6 columns</p>\n</div>"
          },
          "metadata": {}
        }
      ],
      "execution_count": 98,
      "metadata": {
        "jupyter": {
          "source_hidden": false,
          "outputs_hidden": false
        },
        "nteract": {
          "transient": {
            "deleting": false
          }
        },
        "gather": {
          "logged": 1640152303941
        }
      }
    },
    {
      "cell_type": "code",
      "source": [],
      "outputs": [],
      "execution_count": null,
      "metadata": {
        "jupyter": {
          "source_hidden": false,
          "outputs_hidden": false
        },
        "nteract": {
          "transient": {
            "deleting": false
          }
        }
      }
    }
  ],
  "metadata": {
    "kernelspec": {
      "name": "python3-azureml",
      "language": "python",
      "display_name": "Python 3.6 - AzureML"
    },
    "language_info": {
      "name": "python",
      "version": "3.6.9",
      "mimetype": "text/x-python",
      "codemirror_mode": {
        "name": "ipython",
        "version": 3
      },
      "pygments_lexer": "ipython3",
      "nbconvert_exporter": "python",
      "file_extension": ".py"
    },
    "kernel_info": {
      "name": "python3-azureml"
    },
    "nteract": {
      "version": "nteract-front-end@1.0.0"
    },
    "microsoft": {
      "host": {
        "AzureML": {
          "notebookHasBeenCompleted": true
        }
      }
    }
  },
  "nbformat": 4,
  "nbformat_minor": 2
}