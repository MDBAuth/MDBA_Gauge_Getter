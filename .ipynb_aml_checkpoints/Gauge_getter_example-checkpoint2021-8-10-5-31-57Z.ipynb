{
  "cells": [
    {
      "cell_type": "code",
      "source": [
        "import mdba_gauge_getter as gg"
      ],
      "outputs": [],
      "execution_count": 1,
      "metadata": {
        "collapsed": true,
        "jupyter": {
          "source_hidden": false,
          "outputs_hidden": false
        },
        "nteract": {
          "transient": {
            "deleting": false
          }
        },
        "gather": {
          "logged": 1630620716927
        }
      }
    },
    {
      "cell_type": "code",
      "source": [
        "\r\n",
        "help(gg.gauge_pull)"
      ],
      "outputs": [
        {
          "output_type": "stream",
          "name": "stdout",
          "text": [
            "Help on function gauge_pull in module mdba_gauge_getter.gauge_getter:\n",
            "\n",
            "gauge_pull(gauge_numbers:List[str], start_time_user:datetime.date, end_time_user:datetime.date, var:Union[str, NoneType]=None, interval:str='day', datatype:str='mean') -> pandas.core.frame.DataFrame\n",
            "    Given a list of gauge numbers, sorts the list into state groups, and queries relevant\n",
            "    HTTP endpoints for data, returning as a Pandas dataframe object.\n",
            "\n"
          ]
        }
      ],
      "execution_count": 2,
      "metadata": {
        "collapsed": true,
        "jupyter": {
          "source_hidden": false,
          "outputs_hidden": false
        },
        "nteract": {
          "transient": {
            "deleting": false
          }
        },
        "gather": {
          "logged": 1630620718306
        }
      }
    },
    {
      "cell_type": "code",
      "source": [
        "import datetime\r\n",
        "from decimal import *\r\n",
        "BIGEE_gauges = [\"410130\", \"410005\", \"410040\"]\r\n",
        "#gg.sort_gauges_by_state(BIGEE_gauges)\r\n",
        "d_BIDGEE = gg.gauge_pull(BIGEE_gauges, start_time_user = datetime.date(2000, 12, 4), end_time_user= datetime.date(2020, 12, 4), var='F' )"
      ],
      "outputs": [
        {
          "output_type": "stream",
          "name": "stderr",
          "text": [
            "INFO:mdba_gauge_getter.gauge_get:NSW - Request 1 of 1\n"
          ]
        }
      ],
      "execution_count": 3,
      "metadata": {
        "collapsed": true,
        "jupyter": {
          "source_hidden": false,
          "outputs_hidden": false
        },
        "nteract": {
          "transient": {
            "deleting": false
          }
        },
        "gather": {
          "logged": 1630620728511
        }
      }
    },
    {
      "cell_type": "code",
      "source": [
        "d_BIDGEE"
      ],
      "outputs": [
        {
          "output_type": "execute_result",
          "execution_count": 4,
          "data": {
            "text/plain": "      DATASOURCEID  SITEID SUBJECTID    DATETIME     VALUE  QUALITYCODE\n0              NSW  410130     WATER  2000-12-04   649.745           38\n1              NSW  410130     WATER  2000-12-05   598.909           38\n2              NSW  410130     WATER  2000-12-06   578.624           38\n3              NSW  410130     WATER  2000-12-07   555.826           38\n4              NSW  410130     WATER  2000-12-08   527.558           38\n...            ...     ...       ...         ...       ...          ...\n21913          NSW  410040     WATER  2020-11-30  2122.212          140\n21914          NSW  410040     WATER  2020-12-01  2091.129          140\n21915          NSW  410040     WATER  2020-12-02  2085.267          140\n21916          NSW  410040     WATER  2020-12-03  1866.843          140\n21917          NSW  410040     WATER  2020-12-04  1633.865          140\n\n[21918 rows x 6 columns]",
            "text/html": "<div>\n<style scoped>\n    .dataframe tbody tr th:only-of-type {\n        vertical-align: middle;\n    }\n\n    .dataframe tbody tr th {\n        vertical-align: top;\n    }\n\n    .dataframe thead th {\n        text-align: right;\n    }\n</style>\n<table border=\"1\" class=\"dataframe\">\n  <thead>\n    <tr style=\"text-align: right;\">\n      <th></th>\n      <th>DATASOURCEID</th>\n      <th>SITEID</th>\n      <th>SUBJECTID</th>\n      <th>DATETIME</th>\n      <th>VALUE</th>\n      <th>QUALITYCODE</th>\n    </tr>\n  </thead>\n  <tbody>\n    <tr>\n      <th>0</th>\n      <td>NSW</td>\n      <td>410130</td>\n      <td>WATER</td>\n      <td>2000-12-04</td>\n      <td>649.745</td>\n      <td>38</td>\n    </tr>\n    <tr>\n      <th>1</th>\n      <td>NSW</td>\n      <td>410130</td>\n      <td>WATER</td>\n      <td>2000-12-05</td>\n      <td>598.909</td>\n      <td>38</td>\n    </tr>\n    <tr>\n      <th>2</th>\n      <td>NSW</td>\n      <td>410130</td>\n      <td>WATER</td>\n      <td>2000-12-06</td>\n      <td>578.624</td>\n      <td>38</td>\n    </tr>\n    <tr>\n      <th>3</th>\n      <td>NSW</td>\n      <td>410130</td>\n      <td>WATER</td>\n      <td>2000-12-07</td>\n      <td>555.826</td>\n      <td>38</td>\n    </tr>\n    <tr>\n      <th>4</th>\n      <td>NSW</td>\n      <td>410130</td>\n      <td>WATER</td>\n      <td>2000-12-08</td>\n      <td>527.558</td>\n      <td>38</td>\n    </tr>\n    <tr>\n      <th>...</th>\n      <td>...</td>\n      <td>...</td>\n      <td>...</td>\n      <td>...</td>\n      <td>...</td>\n      <td>...</td>\n    </tr>\n    <tr>\n      <th>21913</th>\n      <td>NSW</td>\n      <td>410040</td>\n      <td>WATER</td>\n      <td>2020-11-30</td>\n      <td>2122.212</td>\n      <td>140</td>\n    </tr>\n    <tr>\n      <th>21914</th>\n      <td>NSW</td>\n      <td>410040</td>\n      <td>WATER</td>\n      <td>2020-12-01</td>\n      <td>2091.129</td>\n      <td>140</td>\n    </tr>\n    <tr>\n      <th>21915</th>\n      <td>NSW</td>\n      <td>410040</td>\n      <td>WATER</td>\n      <td>2020-12-02</td>\n      <td>2085.267</td>\n      <td>140</td>\n    </tr>\n    <tr>\n      <th>21916</th>\n      <td>NSW</td>\n      <td>410040</td>\n      <td>WATER</td>\n      <td>2020-12-03</td>\n      <td>1866.843</td>\n      <td>140</td>\n    </tr>\n    <tr>\n      <th>21917</th>\n      <td>NSW</td>\n      <td>410040</td>\n      <td>WATER</td>\n      <td>2020-12-04</td>\n      <td>1633.865</td>\n      <td>140</td>\n    </tr>\n  </tbody>\n</table>\n<p>21918 rows × 6 columns</p>\n</div>"
          },
          "metadata": {}
        }
      ],
      "execution_count": 4,
      "metadata": {
        "collapsed": true,
        "jupyter": {
          "source_hidden": false,
          "outputs_hidden": false
        },
        "nteract": {
          "transient": {
            "deleting": false
          }
        },
        "gather": {
          "logged": 1630620733392
        }
      }
    },
    {
      "cell_type": "code",
      "source": [
        "Paroo =\t[\"424201A\",\"424202A\",\"424002\"]\r\n",
        "Warrego = [\"423203A\",\"423204A\"]\r\n",
        "Condamine_Balonne = [\"422006\",\"422394A\",\"422310C\",\"422355A\",\"422353A\",\"422316A\",\"422333A\",\"422308C\",\"422325A\",\"422213A\"]\r\n",
        "Moonie = [\"417204A\",\"417201B\",\"417001\"]\r\n",
        "Border_Rivers =[\"416002\", \"416202A\",\"416011\",\"416007\",\"416043\",\"416048\"]\r\n",
        "Gwydir = [\"418036\", \"418027\", \"418037\", \"418060\", \"418008\",\"418012\",\"418013\",\"418001\",\"418002\",\"418053\",\"416027\",\"418060\",\"418066\",\"416027\",\"416052\",\"418055\"]\r\n",
        "Namoi =[\"419021\", \"419049\",\"419020\",\"419022\",\"419001\",\"419012\"]\r\n",
        "Macquarie_Castlereagh = [\"420004\", \"421039\",\"421001\",\"421012\"]\r\n",
        "Barwon_Darling = [\"425003\",\"416050\",\"422001\",\"422004\",\"422028\",\"425004\"] \r\n",
        "Lachlan\t= [\"412057\",\"412002\",\"412004\",\"412036\",\"412011\",\"412057\"]\r\n",
        "Murrumbidgee = [\"410001\",\"410008\",\"410004\",\"410005\",\"410021\",\"410078\",\"410136\",\"410040\"]\r\n",
        "Ovens = [\"403241\"]\r\n",
        "Goulburn_Broken\t= [\"405232\",\"405203\",\"405201\"]\r\n",
        "Campaspe = [\"406200\",\"406207\",\"406202\"]\r\n",
        "Loddon_Avoca = [\"407203\",\"407210\",\"407224\",\"407205\"]\r\n",
        "Wimmera\t= [\"415246\"]\r\n",
        "Murray = [\"425010\",\"409215\",\"409204\",\"414200\",\"414203\",\"426200\"]\r\n",
        "Lower_Darling = [\"425012\",\"425013\",\"425005\"]\r\n",
        "Eastern_Mt_Lofty_Ranges = [\"A4260568\"]\r\n",
        "\r\n",
        "allguages = Paroo + Warrego + Condamine_Balonne + Moonie + Border_Rivers + Gwydir + Namoi + Macquarie_Castlereagh + Barwon_Darling + Lachlan + Murrumbidgee + Ovens + Goulburn_Broken + Campaspe + Loddon_Avoca + Murray + Wimmera + Lower_Darling + Eastern_Mt_Lofty_Ranges"
      ],
      "outputs": [],
      "execution_count": 5,
      "metadata": {
        "collapsed": true,
        "jupyter": {
          "source_hidden": false,
          "outputs_hidden": false
        },
        "nteract": {
          "transient": {
            "deleting": false
          }
        },
        "gather": {
          "logged": 1630622912372
        }
      }
    },
    {
      "cell_type": "code",
      "source": [
        "gg.gauge_pull(allguages, start_time_user = datetime.date(2021, 6, 1), end_time_user= datetime.date.today() )"
      ],
      "outputs": [
        {
          "output_type": "stream",
          "name": "stderr",
          "text": [
            "WARNING:mdba_gauge_getter.gauge_get:Gauge 422353A has many state results: ['QLD', 'QLD']\n",
            "INFO:mdba_gauge_getter.gauge_get:NSW - Request 1 of 6\n",
            "INFO:mdba_gauge_getter.gauge_get:NSW - Request 2 of 6\n",
            "INFO:mdba_gauge_getter.gauge_get:NSW - Request 3 of 6\n",
            "INFO:mdba_gauge_getter.gauge_get:NSW - Request 4 of 6\n",
            "INFO:mdba_gauge_getter.gauge_get:NSW - Request 5 of 6\n",
            "INFO:mdba_gauge_getter.gauge_get:NSW - Request 6 of 6\n",
            "INFO:mdba_gauge_getter.gauge_get:VIC - Request 1 of 2\n",
            "INFO:mdba_gauge_getter.gauge_get:VIC - Request 2 of 2\n",
            "INFO:mdba_gauge_getter.gauge_get:QLD - Request 1 of 2\n",
            "INFO:mdba_gauge_getter.gauge_get:QLD - Request 2 of 2\n"
          ]
        },
        {
          "output_type": "execute_result",
          "execution_count": 6,
          "data": {
            "text/plain": "     DATASOURCEID   SITEID SUBJECTID    DATETIME  VALUE  QUALITYCODE\n0             NSW   424002     WATER  2021-06-01  0.000          140\n1             NSW   424002     WATER  2021-06-02  0.000          140\n2             NSW   424002     WATER  2021-06-03  0.028          140\n3             NSW   424002     WATER  2021-06-04  0.028          140\n4             NSW   424002     WATER  2021-06-05  0.004          140\n...           ...      ...       ...         ...    ...          ...\n8079          QLD  416202A     WATER  2021-08-29  52.17          130\n8080          QLD  416202A     WATER  2021-08-30  48.77          130\n8081          QLD  416202A     WATER  2021-08-31  46.76          130\n8082          QLD  416202A     WATER  2021-09-01  44.54          130\n8083          QLD  416202A     WATER  2021-09-02  40.12          130\n\n[8084 rows x 6 columns]",
            "text/html": "<div>\n<style scoped>\n    .dataframe tbody tr th:only-of-type {\n        vertical-align: middle;\n    }\n\n    .dataframe tbody tr th {\n        vertical-align: top;\n    }\n\n    .dataframe thead th {\n        text-align: right;\n    }\n</style>\n<table border=\"1\" class=\"dataframe\">\n  <thead>\n    <tr style=\"text-align: right;\">\n      <th></th>\n      <th>DATASOURCEID</th>\n      <th>SITEID</th>\n      <th>SUBJECTID</th>\n      <th>DATETIME</th>\n      <th>VALUE</th>\n      <th>QUALITYCODE</th>\n    </tr>\n  </thead>\n  <tbody>\n    <tr>\n      <th>0</th>\n      <td>NSW</td>\n      <td>424002</td>\n      <td>WATER</td>\n      <td>2021-06-01</td>\n      <td>0.000</td>\n      <td>140</td>\n    </tr>\n    <tr>\n      <th>1</th>\n      <td>NSW</td>\n      <td>424002</td>\n      <td>WATER</td>\n      <td>2021-06-02</td>\n      <td>0.000</td>\n      <td>140</td>\n    </tr>\n    <tr>\n      <th>2</th>\n      <td>NSW</td>\n      <td>424002</td>\n      <td>WATER</td>\n      <td>2021-06-03</td>\n      <td>0.028</td>\n      <td>140</td>\n    </tr>\n    <tr>\n      <th>3</th>\n      <td>NSW</td>\n      <td>424002</td>\n      <td>WATER</td>\n      <td>2021-06-04</td>\n      <td>0.028</td>\n      <td>140</td>\n    </tr>\n    <tr>\n      <th>4</th>\n      <td>NSW</td>\n      <td>424002</td>\n      <td>WATER</td>\n      <td>2021-06-05</td>\n      <td>0.004</td>\n      <td>140</td>\n    </tr>\n    <tr>\n      <th>...</th>\n      <td>...</td>\n      <td>...</td>\n      <td>...</td>\n      <td>...</td>\n      <td>...</td>\n      <td>...</td>\n    </tr>\n    <tr>\n      <th>8079</th>\n      <td>QLD</td>\n      <td>416202A</td>\n      <td>WATER</td>\n      <td>2021-08-29</td>\n      <td>52.17</td>\n      <td>130</td>\n    </tr>\n    <tr>\n      <th>8080</th>\n      <td>QLD</td>\n      <td>416202A</td>\n      <td>WATER</td>\n      <td>2021-08-30</td>\n      <td>48.77</td>\n      <td>130</td>\n    </tr>\n    <tr>\n      <th>8081</th>\n      <td>QLD</td>\n      <td>416202A</td>\n      <td>WATER</td>\n      <td>2021-08-31</td>\n      <td>46.76</td>\n      <td>130</td>\n    </tr>\n    <tr>\n      <th>8082</th>\n      <td>QLD</td>\n      <td>416202A</td>\n      <td>WATER</td>\n      <td>2021-09-01</td>\n      <td>44.54</td>\n      <td>130</td>\n    </tr>\n    <tr>\n      <th>8083</th>\n      <td>QLD</td>\n      <td>416202A</td>\n      <td>WATER</td>\n      <td>2021-09-02</td>\n      <td>40.12</td>\n      <td>130</td>\n    </tr>\n  </tbody>\n</table>\n<p>8084 rows × 6 columns</p>\n</div>"
          },
          "metadata": {}
        }
      ],
      "execution_count": 6,
      "metadata": {
        "collapsed": true,
        "jupyter": {
          "source_hidden": false,
          "outputs_hidden": false
        },
        "nteract": {
          "transient": {
            "deleting": false
          }
        },
        "gather": {
          "logged": 1630622949093
        }
      }
    },
    {
      "cell_type": "code",
      "source": [],
      "outputs": [],
      "execution_count": null,
      "metadata": {
        "collapsed": true,
        "jupyter": {
          "source_hidden": false,
          "outputs_hidden": false
        },
        "nteract": {
          "transient": {
            "deleting": false
          }
        }
      }
    }
  ],
  "metadata": {
    "kernelspec": {
      "name": "python3-azureml",
      "language": "python",
      "display_name": "Python 3.6 - AzureML"
    },
    "language_info": {
      "name": "python",
      "version": "3.6.9",
      "mimetype": "text/x-python",
      "codemirror_mode": {
        "name": "ipython",
        "version": 3
      },
      "pygments_lexer": "ipython3",
      "nbconvert_exporter": "python",
      "file_extension": ".py"
    },
    "kernel_info": {
      "name": "python3-azureml"
    },
    "nteract": {
      "version": "nteract-front-end@1.0.0"
    },
    "microsoft": {
      "host": {
        "AzureML": {
          "notebookHasBeenCompleted": true
        }
      }
    }
  },
  "nbformat": 4,
  "nbformat_minor": 2
}